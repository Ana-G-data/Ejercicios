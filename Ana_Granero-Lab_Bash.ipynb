{
 "cells": [
  {
   "cell_type": "code",
   "execution_count": null,
   "id": "e090b012",
   "metadata": {},
   "outputs": [],
   "source": [
    "Imprime en consola Hello World"
   ]
  },
  {
   "cell_type": "code",
   "execution_count": null,
   "id": "aebed8c8",
   "metadata": {},
   "outputs": [],
   "source": [
    "echo Hello World"
   ]
  },
  {
   "cell_type": "code",
   "execution_count": null,
   "id": "698ff692",
   "metadata": {},
   "outputs": [],
   "source": [
    "Crea un directorio nuevo llamado new_dir."
   ]
  },
  {
   "cell_type": "code",
   "execution_count": null,
   "id": "341bfe2d",
   "metadata": {},
   "outputs": [],
   "source": [
    "mkdir new_dir"
   ]
  },
  {
   "cell_type": "code",
   "execution_count": null,
   "id": "d35c0340",
   "metadata": {},
   "outputs": [],
   "source": [
    "Elimina ese directorio."
   ]
  },
  {
   "cell_type": "code",
   "execution_count": null,
   "id": "722513a7",
   "metadata": {},
   "outputs": [],
   "source": [
    "rm -r new_dir"
   ]
  },
  {
   "cell_type": "code",
   "execution_count": null,
   "id": "ce3bc33a",
   "metadata": {},
   "outputs": [],
   "source": [
    "Copia el archivo sed.txt dentro de la carpeta lorem a la carpeta lorem-copy."
   ]
  },
  {
   "cell_type": "code",
   "execution_count": null,
   "id": "a3dcc218",
   "metadata": {},
   "outputs": [],
   "source": [
    "mkdir lorem-copy\n",
    "cp sed.txt lorem-copy"
   ]
  },
  {
   "cell_type": "code",
   "execution_count": null,
   "id": "65127aa0",
   "metadata": {},
   "outputs": [],
   "source": [
    "Copia los otros dos archivos de la carpeta lorem a la carpeta lorem-copy en una sola lÃ­nea mediante ;."
   ]
  },
  {
   "cell_type": "code",
   "execution_count": null,
   "id": "b666e96f",
   "metadata": {},
   "outputs": [],
   "source": [
    "cp at.txt lorem.txt lorem-copy"
   ]
  },
  {
   "cell_type": "code",
   "execution_count": null,
   "id": "dbf78182",
   "metadata": {},
   "outputs": [],
   "source": [
    "\n",
    "Muestra el contenido del archivo sed.txt dentro de la carpeta lorem"
   ]
  },
  {
   "cell_type": "code",
   "execution_count": null,
   "id": "a01310b3",
   "metadata": {},
   "outputs": [],
   "source": [
    "cat sed.txt"
   ]
  },
  {
   "cell_type": "code",
   "execution_count": null,
   "id": "c64563f4",
   "metadata": {},
   "outputs": [],
   "source": [
    "Muestra el contenido de los archivos at.txt y lorem.txt dentro de la carpeta lorem."
   ]
  },
  {
   "cell_type": "code",
   "execution_count": null,
   "id": "ead6905d",
   "metadata": {},
   "outputs": [],
   "source": [
    "cat at.txt lorem.txt"
   ]
  },
  {
   "cell_type": "code",
   "execution_count": null,
   "id": "1653f151",
   "metadata": {},
   "outputs": [],
   "source": [
    "Visualiza las primeras 3 líneas del archivo sed.txt dentro de la carpeta lorem-copy"
   ]
  },
  {
   "cell_type": "code",
   "execution_count": null,
   "id": "ab81e7f3",
   "metadata": {},
   "outputs": [],
   "source": [
    "head -n3 sed.txt"
   ]
  },
  {
   "cell_type": "code",
   "execution_count": null,
   "id": "cfc0aa8a",
   "metadata": {},
   "outputs": [],
   "source": [
    "Visualiza las ultimas 3 líneas del archivo sed.txt dentro de la carpeta lorem-copy"
   ]
  },
  {
   "cell_type": "code",
   "execution_count": null,
   "id": "8a69de23",
   "metadata": {},
   "outputs": [],
   "source": [
    "tail -n3 sed.txt"
   ]
  },
  {
   "cell_type": "code",
   "execution_count": null,
   "id": "e5f769ef",
   "metadata": {},
   "outputs": [],
   "source": [
    "Añade Homo homini lupus. al final de archivo sed.txt dentro de la carpeta lorem-copy."
   ]
  },
  {
   "cell_type": "code",
   "execution_count": null,
   "id": "fbb90b72",
   "metadata": {},
   "outputs": [],
   "source": [
    "echo \"Homo Homini lupus\" >> sed.txt"
   ]
  },
  {
   "cell_type": "code",
   "execution_count": null,
   "id": "f3ca808f",
   "metadata": {},
   "outputs": [],
   "source": [
    "Visualiza las últimas 3 líneas del archivo sed.txt dentro de la carpeta lorem-copy. Deberías ver ahora Homo homini lupus.."
   ]
  },
  {
   "cell_type": "code",
   "execution_count": null,
   "id": "c29b2003",
   "metadata": {},
   "outputs": [],
   "source": [
    "tail -n3 sed.txt"
   ]
  },
  {
   "cell_type": "code",
   "execution_count": null,
   "id": "1ce4c330",
   "metadata": {},
   "outputs": [],
   "source": [
    "Sustituye todas las apariciones de et por ET del archivo at.txt dentro de la carpeta lorem-copy. Deberás usar sed."
   ]
  },
  {
   "cell_type": "code",
   "execution_count": null,
   "id": "b7cd2e10",
   "metadata": {},
   "outputs": [],
   "source": [
    "sed \"s/et/ET/g\" at.txt"
   ]
  },
  {
   "cell_type": "code",
   "execution_count": null,
   "id": "b1285987",
   "metadata": {},
   "outputs": [],
   "source": [
    "Encuentra al usuario activo en el sistema."
   ]
  },
  {
   "cell_type": "code",
   "execution_count": null,
   "id": "0bf858cb",
   "metadata": {},
   "outputs": [],
   "source": [
    "whoami"
   ]
  },
  {
   "cell_type": "code",
   "execution_count": null,
   "id": "79bb4c3e",
   "metadata": {},
   "outputs": [],
   "source": [
    "Encuentra dónde estás en tu sistema de ficheros."
   ]
  },
  {
   "cell_type": "code",
   "execution_count": null,
   "id": "cfab71ce",
   "metadata": {},
   "outputs": [],
   "source": [
    "pwd"
   ]
  },
  {
   "cell_type": "code",
   "execution_count": null,
   "id": "90734399",
   "metadata": {},
   "outputs": [],
   "source": [
    "Lista los archivos que terminan por .txt en la carpeta lorem."
   ]
  },
  {
   "cell_type": "code",
   "execution_count": null,
   "id": "f0d32b0b",
   "metadata": {},
   "outputs": [],
   "source": [
    "find *.txt"
   ]
  },
  {
   "cell_type": "code",
   "execution_count": null,
   "id": "d04e71da",
   "metadata": {},
   "outputs": [],
   "source": [
    "Cuenta el número de líneas que tiene el archivo sed.txt dentro de la carpeta lorem."
   ]
  },
  {
   "cell_type": "code",
   "execution_count": null,
   "id": "861123e0",
   "metadata": {},
   "outputs": [],
   "source": [
    "wc -l sed.txt"
   ]
  },
  {
   "cell_type": "code",
   "execution_count": null,
   "id": "10c6e96b",
   "metadata": {},
   "outputs": [],
   "source": [
    "Cuenta el número de archivos que empiezan por lorem que están en este directorio y en directorios internos."
   ]
  },
  {
   "cell_type": "code",
   "execution_count": null,
   "id": "bce939ba",
   "metadata": {},
   "outputs": [],
   "source": [
    "ls lorem*.* | wc -l"
   ]
  },
  {
   "cell_type": "code",
   "execution_count": null,
   "id": "8cbefb0f",
   "metadata": {},
   "outputs": [],
   "source": [
    "Encuentra todas las apariciones de et en at.txt dentro de la carpeta lorem."
   ]
  },
  {
   "cell_type": "code",
   "execution_count": null,
   "id": "abd5fba7",
   "metadata": {},
   "outputs": [],
   "source": [
    "grep -nr \"et\" at.txt"
   ]
  },
  {
   "cell_type": "code",
   "execution_count": null,
   "id": "44917e2d",
   "metadata": {},
   "outputs": [],
   "source": [
    "Cuenta el número de apariciones del string et en at.txt dentro de la carpeta lorem."
   ]
  },
  {
   "cell_type": "code",
   "execution_count": null,
   "id": "841914b4",
   "metadata": {},
   "outputs": [],
   "source": [
    "grep -c \"at\" at.txt"
   ]
  },
  {
   "cell_type": "code",
   "execution_count": null,
   "id": "38ee3f48",
   "metadata": {},
   "outputs": [],
   "source": [
    "Cuenta el número de apariciones del string et en todos los archivos del directorio lorem-copy."
   ]
  },
  {
   "cell_type": "code",
   "execution_count": null,
   "id": "a056f4cc",
   "metadata": {},
   "outputs": [],
   "source": [
    "grep -nr \"et\""
   ]
  },
  {
   "cell_type": "markdown",
   "id": "c6428e74",
   "metadata": {},
   "source": [
    "Almacena en una variable name tu nombre."
   ]
  },
  {
   "cell_type": "code",
   "execution_count": null,
   "id": "4e6e7b3e",
   "metadata": {},
   "outputs": [],
   "source": [
    "set name=Ana"
   ]
  },
  {
   "cell_type": "markdown",
   "id": "42675e0e",
   "metadata": {},
   "source": [
    "Imprime esa variable."
   ]
  },
  {
   "cell_type": "code",
   "execution_count": null,
   "id": "a585ff71",
   "metadata": {},
   "outputs": [],
   "source": [
    "echo $name"
   ]
  },
  {
   "cell_type": "markdown",
   "id": "68554f6b",
   "metadata": {},
   "source": [
    "Crea un directorio nuevo que se llame como el contenido de la variable name."
   ]
  },
  {
   "cell_type": "code",
   "execution_count": null,
   "id": "f8a52a62",
   "metadata": {},
   "outputs": [],
   "source": [
    "mkdir $name"
   ]
  },
  {
   "cell_type": "markdown",
   "id": "42a05f63",
   "metadata": {},
   "source": [
    "Elimina ese directorio."
   ]
  },
  {
   "cell_type": "code",
   "execution_count": null,
   "id": "c0d486e7",
   "metadata": {},
   "outputs": [],
   "source": [
    "rm -r $name\n",
    "\n",
    "En realidad no me la borra, pero si intento borrar ese directorio creado en git a través del explorador me da el siguiente mensaje:\n",
    "error080004005: error no especificado, y después desaparece.\n",
    "\n",
    "No sé si es porque en realidad si la eliminó el comando o el comando no me la eliminó debido a este error."
   ]
  },
  {
   "cell_type": "markdown",
   "id": "f56a1a0c",
   "metadata": {},
   "source": [
    "Muestra los procesos de forma jerárquica que se están ejecutando en tu ordenador:\n",
    "\n",
    "Usando el comando top o htop\n",
    "Usando el comando ps con argumentos"
   ]
  },
  {
   "cell_type": "code",
   "execution_count": null,
   "id": "e60c74c7",
   "metadata": {},
   "outputs": [],
   "source": [
    "No conseguí encontrar la respuesta. Todo me llevaba a Linux y ps tree, que en windows no funciona"
   ]
  },
  {
   "cell_type": "code",
   "execution_count": null,
   "id": "93169dd5",
   "metadata": {},
   "outputs": [],
   "source": [
    "Muestra información sobre tu procesador por pantalla"
   ]
  },
  {
   "cell_type": "code",
   "execution_count": null,
   "id": "b55c6aa7",
   "metadata": {},
   "outputs": [],
   "source": [
    "systeminfo"
   ]
  },
  {
   "cell_type": "markdown",
   "id": "d568bf62",
   "metadata": {},
   "source": [
    "Crea 3 alias y haz que estén disponibles cada vez que inicias sesión"
   ]
  },
  {
   "cell_type": "code",
   "execution_count": null,
   "id": "802749e8",
   "metadata": {},
   "outputs": [],
   "source": [
    "He intentado mil maneras diferentes y sigue diciendome todo el rato command not found. Lo he intentado con ruta de archivo y con comandos. \n",
    "\n",
    "Me aseguré que tenía el archivo .bashrc en mi carpeta de usuario. Lo abrí incluso desde windows para poder incluir los alias de manera manual.\n",
    "\n",
    "Tampoco me ha funcionado.\n",
    "\n",
    "Igualmente, pasos que he seguido: Abrir Git Bash desde administrador (también lo he hecho en visual studio)\n",
    "                                  Asegurarme que estaba en la raíz antes de crearlo. \n",
    "                                  alias jn=\"jupyter notebook\"\n",
    "                                  después he reiniciado el terminal y he probado a escribir jn\n",
    "                                  Resultado: bash: jn: command not found\n",
    "                                  Con directorio de archivos igual y el alias creado:\n",
    "                                  alias ejercicios=\"cd /users/smico/onedrive/documentos/curso_data_analyst/ejercicios\""
   ]
  },
  {
   "cell_type": "markdown",
   "id": "4b687f95",
   "metadata": {},
   "source": [
    "Comprime las carpetas lorem y lorem-copy en un archivo llamado lorem-compressed.tar.gz"
   ]
  },
  {
   "cell_type": "code",
   "execution_count": null,
   "id": "4a56ca0e",
   "metadata": {},
   "outputs": [],
   "source": [
    "tar -czvf lorem-compressed.tar.gz lorem lorem-copy"
   ]
  },
  {
   "cell_type": "markdown",
   "id": "0f83c42b",
   "metadata": {},
   "source": [
    "Descomprime el archivo lorem-compressed.tar.gz en la carpeta lorem-uncompressed"
   ]
  },
  {
   "cell_type": "code",
   "execution_count": null,
   "id": "c2503320",
   "metadata": {},
   "outputs": [],
   "source": [
    "mkdir lorem-uncompressed\n",
    "tar -xvf lorem-compressed.tar.gz -C lorem-uncompressed/\n"
   ]
  },
  {
   "cell_type": "markdown",
   "id": "c3c1d222",
   "metadata": {},
   "source": [
    "Crea un script bash para imprimir los numeros de 1 a 100."
   ]
  },
  {
   "cell_type": "code",
   "execution_count": null,
   "id": "c546d3ba",
   "metadata": {},
   "outputs": [],
   "source": [
    "Esta la he copiado de una respuesta que encontré en internet. Jamás habría llegado a esos comandos por mi misma con lo que sé ahora mismo\n",
    "$ #!/bin/bash --posix\n",
    "i=0\n",
    "while [ $i -ne 100 ]\n",
    "do\n",
    "        i=$(($i+1))\n",
    "        echo \"$i\"\n",
    "done"
   ]
  }
 ],
 "metadata": {
  "kernelspec": {
   "display_name": "Python 3 (ipykernel)",
   "language": "python",
   "name": "python3"
  },
  "language_info": {
   "codemirror_mode": {
    "name": "ipython",
    "version": 3
   },
   "file_extension": ".py",
   "mimetype": "text/x-python",
   "name": "python",
   "nbconvert_exporter": "python",
   "pygments_lexer": "ipython3",
   "version": "3.9.12"
  },
  "vscode": {
   "interpreter": {
    "hash": "6e868c65eadf330fbd304b74f04b4562c87a215f26a159e882e4d826ad7ac981"
   }
  }
 },
 "nbformat": 4,
 "nbformat_minor": 5
}
